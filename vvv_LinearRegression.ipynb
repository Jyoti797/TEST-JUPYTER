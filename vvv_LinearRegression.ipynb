{
  "nbformat": 4,
  "nbformat_minor": 0,
  "metadata": {
    "colab": {
      "provenance": []
    },
    "kernelspec": {
      "name": "python3",
      "display_name": "Python 3"
    },
    "language_info": {
      "name": "python"
    }
  },
  "cells": [
    {
      "cell_type": "code",
      "execution_count": null,
      "metadata": {
        "id": "G1ZkSVMdyz0a"
      },
      "outputs": [],
      "source": [
        "# code 1: importing all necessary libraries.\n",
        "import numpy as np\n",
        "\n",
        "import matplotlib.pyplot as plt\n",
        "\n",
        "from sklearn.linear_model import LinearRegression\n",
        "\n",
        "from sklearn.metrics import mean_squared_error, r2_score\n",
        "\n",
        "import statsmodels.api as sm"
      ]
    },
    {
      "cell_type": "code",
      "source": [
        "# code 2: generating the data and calculating xmean,ymean,sxx,sxy\n",
        "x=np.array([1,2,3,4,5])\n",
        "y=np.array([7,14,15,18,19])\n",
        "n=np.size(x)\n",
        "x_mean=np.mean(x)\n",
        "y_mean=np.mean(y)\n",
        "x_mean,y_mean\n",
        "Sxy=np.sum(x*y)-n*x_mean*y_mean\n",
        "Sxx=np.sum(x*x)-n*x_mean*x_mean\n",
        "b1=Sxy/Sxx\n",
        "b0=y_mean-b1*x_mean\n",
        "print('slope b1 is',b1)\n",
        "print('intercept b0 is',b0)\n",
        "plt.scatter(x,y)\n",
        "plt.xlabel('Independent variable X')\n",
        "plt.ylabel('Dependent variable y')"
      ],
      "metadata": {
        "colab": {
          "base_uri": "https://localhost:8080/",
          "height": 331
        },
        "id": "aMim772vz-dY",
        "outputId": "9693a298-f3db-4bfe-f19b-a22e81486d66"
      },
      "execution_count": null,
      "outputs": [
        {
          "output_type": "stream",
          "name": "stdout",
          "text": [
            "slope b1 is 2.8\n",
            "intercept b0 is 6.200000000000001\n"
          ]
        },
        {
          "output_type": "execute_result",
          "data": {
            "text/plain": [
              "Text(0, 0.5, 'Dependent\\xa0variable\\xa0y')"
            ]
          },
          "metadata": {},
          "execution_count": 8
        },
        {
          "output_type": "display_data",
          "data": {
            "text/plain": [
              "<Figure size 432x288 with 1 Axes>"
            ],
            "image/png": "[encoded data removed]"
          },
          "metadata": {
            "needs_background": "light"
          }
        }
      ]
    },
    {
      "cell_type": "code",
      "source": [
        "#Code 3: Plot the given data points and fit the regression line.\n",
        "y_pred=b1*x+b0\n",
        "plt.scatter(x,y,color='red')\n",
        "plt.plot(x,y_pred,color='green')\n",
        "\n",
        "plt.xlabel('x')\n",
        "plt.ylabel('y')"
      ],
      "metadata": {
        "colab": {
          "base_uri": "https://localhost:8080/",
          "height": 296
        },
        "id": "vfxC_u3R3MH_",
        "outputId": "6334952c-2b4c-4070-aec6-f7ffd1bf556a"
      },
      "execution_count": null,
      "outputs": [
        {
          "output_type": "execute_result",
          "data": {
            "text/plain": [
              "Text(0, 0.5, 'y')"
            ]
          },
          "metadata": {},
          "execution_count": 11
        },
        {
          "output_type": "display_data",
          "data": {
            "text/plain": [
              "<Figure size 432x288 with 1 Axes>"
            ],
            "image/png": "[encoded data removed]"
          },
          "metadata": {
            "needs_background": "light"
          }
        }
      ]
    },
    {
      "cell_type": "code",
      "source": [
        "#Code 4: Analyze the performance of the model by calculating mean squarederror and R 2\n",
        "error=y-y_pred\n",
        "se=np.sum(error**2)\n",
        "print('squared error is',se)\n",
        "mse=se/n\n",
        "print('mean squared error is',mse)\n",
        "rmse=np.sqrt(mse)\n",
        "print('root mean square error is',rmse)\n",
        "SSt=np.sum((y-y_mean)**2)\n",
        "R2=1-(se/SSt)\n",
        "print('R square is',R2)"
      ],
      "metadata": {
        "colab": {
          "base_uri": "https://localhost:8080/"
        },
        "id": "3_cesuhP58gs",
        "outputId": "93e0946e-3a12-4613-83ab-b0f4271f3f7e"
      },
      "execution_count": null,
      "outputs": [
        {
          "output_type": "stream",
          "name": "stdout",
          "text": [
            "squared error is 10.800000000000004\n",
            "mean squared error is 2.160000000000001\n",
            "root mean square error is 1.4696938456699071\n",
            "R square is 0.8789237668161435\n"
          ]
        }
      ]
    },
    {
      "cell_type": "code",
      "source": [
        "# Code 5: Use scikit library to confirm the above steps.\n",
        "x = x.reshape(-1,1)\n",
        "regression_model = LinearRegression()\n",
        "# Fit the data(train the model)\n",
        "regression_model.fit(x, y)\n",
        "# Predict\n",
        "y_predicted = regression_model.predict(x)\n",
        "# model evaluation\n",
        "mse=mean_squared_error(y,y_predicted)\n",
        "rmse = np.sqrt(mean_squared_error(y, y_predicted))\n",
        "r2 = r2_score(y, y_predicted)\n",
        "# printing values\n",
        "print('Slope:',regression_model.coef_)\n",
        "print('Intercept:',regression_model.intercept_)\n",
        "print('MSE:',mse)\n",
        "print('Root mean squared error:', rmse)\n",
        "print('R2 score:', r2)"
      ],
      "metadata": {
        "colab": {
          "base_uri": "https://localhost:8080/"
        },
        "id": "wvuZIaTn7GVC",
        "outputId": "a531029c-ba2b-4def-daab-3b151164555b"
      },
      "execution_count": 15,
      "outputs": [
        {
          "output_type": "stream",
          "name": "stdout",
          "text": [
            "Slope: [2.8]\n",
            "Intercept: 6.199999999999999\n",
            "MSE: 2.160000000000001\n",
            "Root mean squared error: 1.4696938456699071\n",
            "R2 score: 0.8789237668161435\n"
          ]
        }
      ]
    },
    {
      "cell_type": "code",
      "source": [],
      "metadata": {
        "id": "tNyKLGJJ7xDt"
      },
      "execution_count": null,
      "outputs": []
    }
  ]
}