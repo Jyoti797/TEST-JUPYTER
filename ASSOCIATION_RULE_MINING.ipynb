{
 "cells": [
  {
   "cell_type": "code",
   "execution_count": 3,
   "metadata": {
    "colab": {
     "base_uri": "https://localhost:8080/"
    },
    "id": "BL2z0eyOmU8Q",
    "outputId": "0e630fa0-682e-4784-9b4d-a506478ab467"
   },
   "outputs": [
    {
     "name": "stdout",
     "output_type": "stream",
     "text": [
      "['I1', 'I2', 'I3', 'I4', 'I5']\n"
     ]
    }
   ],
   "source": [
    "#Input\n",
    "#We have the dataset given below. It consists of random items I1, I2, I3, I4, and I5.\n",
    "#There can be any number of items. So, first, we’ll find the set of items in our dataset.\n",
    "data = [\n",
    "        ['T100',['I1','I2','I5']],\n",
    "        ['T200',['I2','I4']],\n",
    "        ['T300',['I2','I3']],\n",
    "        ['T400',['I1','I2','I4']],\n",
    "        ['T500',['I1','I3']],\n",
    "        ['T600',['I2','I3']],\n",
    "        ['T700',['I1','I3']],\n",
    "        ['T800',['I1','I2','I3','I5']],\n",
    "        ['T900',['I1','I2','I3']]\n",
    "        ]\n",
    "init = []\n",
    "for i in data:\n",
    "    for q in i[1]:\n",
    "        if(q not in init):\n",
    "            init.append(q)\n",
    "init = sorted(init)\n",
    "print(init)"
   ]
  },
  {
   "cell_type": "code",
   "execution_count": null,
   "metadata": {
    "colab": {
     "base_uri": "https://localhost:8080/"
    },
    "id": "umQV9hz0miCv",
    "outputId": "8c487e3f-7792-46d7-87a3-e067801673a7"
   },
   "outputs": [
    {
     "data": {
      "text/plain": [
       "2"
      ]
     },
     "execution_count": 2,
     "metadata": {},
     "output_type": "execute_result"
    }
   ],
   "source": [
    "#Support\n",
    "sp = 0.4\n",
    "s = int(sp*len(init))\n",
    "s"
   ]
  },
  {
   "cell_type": "code",
   "execution_count": 2,
   "metadata": {
    "colab": {
     "base_uri": "https://localhost:8080/"
    },
    "id": "bguxPNhCmy1M",
    "outputId": "8b04d6ae-455a-41e1-c86c-f659fc104b2e"
   },
   "outputs": [
    {
     "name": "stdout",
     "output_type": "stream",
     "text": [
      "C1:\n",
      "['I1']: 6\n",
      "['I2']: 7\n",
      "['I3']: 6\n",
      "['I4']: 2\n",
      "['I5']: 2\n",
      "\n"
     ]
    },
    {
     "ename": "NameError",
     "evalue": "name 's' is not defined",
     "output_type": "error",
     "traceback": [
      "\u001b[1;31m---------------------------------------------------------------------------\u001b[0m",
      "\u001b[1;31mNameError\u001b[0m                                 Traceback (most recent call last)",
      "Cell \u001b[1;32mIn[2], line 15\u001b[0m\n\u001b[0;32m     13\u001b[0m l \u001b[38;5;241m=\u001b[39m Counter()\n\u001b[0;32m     14\u001b[0m \u001b[38;5;28;01mfor\u001b[39;00m i \u001b[38;5;129;01min\u001b[39;00m c:\n\u001b[1;32m---> 15\u001b[0m     \u001b[38;5;28;01mif\u001b[39;00m(c[i] \u001b[38;5;241m>\u001b[39m\u001b[38;5;241m=\u001b[39m \u001b[43ms\u001b[49m):\n\u001b[0;32m     16\u001b[0m         l[\u001b[38;5;28mfrozenset\u001b[39m([i])]\u001b[38;5;241m+\u001b[39m\u001b[38;5;241m=\u001b[39mc[i]\n\u001b[0;32m     17\u001b[0m \u001b[38;5;28mprint\u001b[39m(\u001b[38;5;124m\"\u001b[39m\u001b[38;5;124mL1:\u001b[39m\u001b[38;5;124m\"\u001b[39m)\n",
      "\u001b[1;31mNameError\u001b[0m: name 's' is not defined"
     ]
    }
   ],
   "source": [
    "#Algorithm\n",
    "#Now, we will apply the apriori algorithm.\n",
    "from collections import Counter\n",
    "c = Counter()\n",
    "for i in init:\n",
    "    for d in data:\n",
    "        if(i in d[1]):\n",
    "            c[i]+=1\n",
    "print(\"C1:\")\n",
    "for i in c:\n",
    "    print(str([i])+\": \"+str(c[i]))\n",
    "print()\n",
    "l = Counter()\n",
    "for i in c:\n",
    "    if(c[i] >= s):\n",
    "        l[frozenset([i])]+=c[i]\n",
    "print(\"L1:\")\n",
    "for i in l:\n",
    "    print(str(list(i))+\": \"+str(l[i]))\n",
    "print()\n",
    "pl = l\n",
    "pos = 1\n",
    "for count in range (2,1000):\n",
    "    nc = set()\n",
    "    temp = list(l)\n",
    "    for i in range(0,len(temp)):\n",
    "        for j in range(i+1,len(temp)):\n",
    "            t = temp[i].union(temp[j])\n",
    "            if(len(t) == count):\n",
    "                nc.add(temp[i].union(temp[j]))\n",
    "    nc = list(nc)\n",
    "    c = Counter()\n",
    "    for i in nc:\n",
    "        c[i] = 0\n",
    "        for q in data:\n",
    "            temp = set(q[1])\n",
    "            if(i.issubset(temp)):\n",
    "                c[i]+=1\n",
    "    print(\"C\"+str(count)+\":\")\n",
    "    for i in c:\n",
    "        print(str(list(i))+\": \"+str(c[i]))\n",
    "    print()\n",
    "    l = Counter()\n",
    "    for i in c:\n",
    "        if(c[i] >= s):\n",
    "            l[i]+=c[i]\n",
    "    print(\"L\"+str(count)+\":\")\n",
    "    for i in l:\n",
    "        print(str(list(i))+\": \"+str(l[i]))\n",
    "    print()\n",
    "    if(len(l) == 0):\n",
    "        break\n",
    "    pl = l\n",
    "    pos = count\n",
    "print(\"Result: \")\n",
    "print(\"L\"+str(pos)+\":\")\n",
    "for i in pl:\n",
    "    print(str(list(i))+\": \"+str(pl[i]))\n",
    "print()"
   ]
  },
  {
   "cell_type": "code",
   "execution_count": null,
   "metadata": {
    "colab": {
     "base_uri": "https://localhost:8080/"
    },
    "id": "mrXP-KRZnSF1",
    "outputId": "e5dfef93-16b0-4428-c7e0-332ed0feb5ca"
   },
   "outputs": [
    {
     "name": "stdout",
     "output_type": "stream",
     "text": [
      "['I3', 'I1'] -> ['I2'] = 50.0%\n",
      "['I2'] -> ['I3', 'I1'] = 28.57142857142857%\n",
      "['I3', 'I2'] -> ['I1'] = 50.0%\n",
      "['I1'] -> ['I3', 'I2'] = 33.33333333333333%\n",
      "['I1', 'I2'] -> ['I3'] = 50.0%\n",
      "['I3'] -> ['I1', 'I2'] = 33.33333333333333%\n",
      "choosing: 1 3 5 \n",
      "\n",
      "['I2', 'I5'] -> ['I1'] = 100.0%\n",
      "['I1'] -> ['I2', 'I5'] = 33.33333333333333%\n",
      "['I2', 'I1'] -> ['I5'] = 50.0%\n",
      "['I5'] -> ['I2', 'I1'] = 100.0%\n",
      "['I1', 'I5'] -> ['I2'] = 100.0%\n",
      "['I2'] -> ['I1', 'I5'] = 28.57142857142857%\n",
      "choosing: 1 4 5 \n",
      "\n"
     ]
    }
   ],
   "source": [
    "#Finding the association rules for the subsets\n",
    "#After running the algorithm, and finding the final subsets, we will find the association rules for the subsets.\n",
    "from itertools import combinations\n",
    "for l in pl:\n",
    "    c = [frozenset(q) for q in combinations(l,len(l)-1)]\n",
    "    mmax = 0\n",
    "    for a in c:\n",
    "        b = l-a\n",
    "        ab = l\n",
    "        sab = 0\n",
    "        sa = 0\n",
    "        sb = 0\n",
    "        for q in data:\n",
    "            temp = set(q[1])\n",
    "            if(a.issubset(temp)):\n",
    "                sa+=1\n",
    "            if(b.issubset(temp)):\n",
    "                sb+=1\n",
    "            if(ab.issubset(temp)):\n",
    "                sab+=1\n",
    "        temp = sab/sa*100\n",
    "        if(temp > mmax):\n",
    "            mmax = temp\n",
    "        temp = sab/sb*100\n",
    "        if(temp > mmax):\n",
    "            mmax = temp\n",
    "        print(str(list(a))+\" -> \"+str(list(b))+\" = \"+str(sab/sa*100)+\"%\")\n",
    "        print(str(list(b))+\" -> \"+str(list(a))+\" = \"+str(sab/sb*100)+\"%\")\n",
    "    curr = 1\n",
    "    print(\"choosing:\", end=' ')\n",
    "    for a in c:\n",
    "        b = l-a\n",
    "        ab = l\n",
    "        sab = 0\n",
    "        sa = 0\n",
    "        sb = 0\n",
    "        for q in data:\n",
    "            temp = set(q[1])\n",
    "            if(a.issubset(temp)):\n",
    "                sa+=1\n",
    "            if(b.issubset(temp)):\n",
    "                sb+=1\n",
    "            if(ab.issubset(temp)):\n",
    "                sab+=1\n",
    "        temp = sab/sa*100\n",
    "        if(temp == mmax):\n",
    "            print(curr, end = ' ')\n",
    "        curr += 1\n",
    "        temp = sab/sb*100\n",
    "        if(temp == mmax):\n",
    "            print(curr, end = ' ')\n",
    "        curr += 1\n",
    "    print()\n",
    "    print()\n"
   ]
  }
 ],
 "metadata": {
  "colab": {
   "provenance": []
  },
  "kernelspec": {
   "display_name": "Python 3 (ipykernel)",
   "language": "python",
   "name": "python3"
  },
  "language_info": {
   "codemirror_mode": {
    "name": "ipython",
    "version": 3
   },
   "file_extension": ".py",
   "mimetype": "text/x-python",
   "name": "python",
   "nbconvert_exporter": "python",
   "pygments_lexer": "ipython3",
   "version": "3.12.0"
  }
 },
 "nbformat": 4,
 "nbformat_minor": 4
}
