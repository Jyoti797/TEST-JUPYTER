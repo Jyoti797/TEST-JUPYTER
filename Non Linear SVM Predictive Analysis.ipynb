{
 "cells": [
  {
   "cell_type": "markdown",
   "id": "5728e3dd",
   "metadata": {},
   "source": [
    "Aditya Narayan Panda\n",
    "FET/BCE/2021-25/005"
   ]
  },
  {
   "cell_type": "code",
   "execution_count": 1,
   "id": "c039185a",
   "metadata": {},
   "outputs": [],
   "source": [
    "import pandas as pd\n",
    "import matplotlib.pyplot as plt"
   ]
  },
  {
   "cell_type": "code",
   "execution_count": 2,
   "id": "6a10bb1c",
   "metadata": {},
   "outputs": [],
   "source": [
    "df=pd.read_csv(\"ForNLSVM.csv\")"
   ]
  },
  {
   "cell_type": "code",
   "execution_count": 3,
   "id": "0b299b5f",
   "metadata": {},
   "outputs": [
    {
     "data": {
      "text/html": [
       "<div>\n",
       "<style scoped>\n",
       "    .dataframe tbody tr th:only-of-type {\n",
       "        vertical-align: middle;\n",
       "    }\n",
       "\n",
       "    .dataframe tbody tr th {\n",
       "        vertical-align: top;\n",
       "    }\n",
       "\n",
       "    .dataframe thead th {\n",
       "        text-align: right;\n",
       "    }\n",
       "</style>\n",
       "<table border=\"1\" class=\"dataframe\">\n",
       "  <thead>\n",
       "    <tr style=\"text-align: right;\">\n",
       "      <th></th>\n",
       "      <th>x</th>\n",
       "      <th>y</th>\n",
       "      <th>label</th>\n",
       "    </tr>\n",
       "  </thead>\n",
       "  <tbody>\n",
       "    <tr>\n",
       "      <th>0</th>\n",
       "      <td>2</td>\n",
       "      <td>2</td>\n",
       "      <td>1</td>\n",
       "    </tr>\n",
       "    <tr>\n",
       "      <th>1</th>\n",
       "      <td>2</td>\n",
       "      <td>-2</td>\n",
       "      <td>1</td>\n",
       "    </tr>\n",
       "    <tr>\n",
       "      <th>2</th>\n",
       "      <td>-2</td>\n",
       "      <td>-2</td>\n",
       "      <td>1</td>\n",
       "    </tr>\n",
       "    <tr>\n",
       "      <th>3</th>\n",
       "      <td>-2</td>\n",
       "      <td>2</td>\n",
       "      <td>1</td>\n",
       "    </tr>\n",
       "    <tr>\n",
       "      <th>4</th>\n",
       "      <td>1</td>\n",
       "      <td>1</td>\n",
       "      <td>0</td>\n",
       "    </tr>\n",
       "    <tr>\n",
       "      <th>5</th>\n",
       "      <td>1</td>\n",
       "      <td>-1</td>\n",
       "      <td>0</td>\n",
       "    </tr>\n",
       "    <tr>\n",
       "      <th>6</th>\n",
       "      <td>-1</td>\n",
       "      <td>-1</td>\n",
       "      <td>0</td>\n",
       "    </tr>\n",
       "    <tr>\n",
       "      <th>7</th>\n",
       "      <td>-1</td>\n",
       "      <td>1</td>\n",
       "      <td>0</td>\n",
       "    </tr>\n",
       "  </tbody>\n",
       "</table>\n",
       "</div>"
      ],
      "text/plain": [
       "   x  y  label\n",
       "0  2  2      1\n",
       "1  2 -2      1\n",
       "2 -2 -2      1\n",
       "3 -2  2      1\n",
       "4  1  1      0\n",
       "5  1 -1      0\n",
       "6 -1 -1      0\n",
       "7 -1  1      0"
      ]
     },
     "execution_count": 3,
     "metadata": {},
     "output_type": "execute_result"
    }
   ],
   "source": [
    "df"
   ]
  },
  {
   "cell_type": "code",
   "execution_count": 4,
   "id": "881ed45c",
   "metadata": {},
   "outputs": [
    {
     "data": {
      "image/png": "[encoded data removed]",
      "text/plain": [
       "<Figure size 432x288 with 1 Axes>"
      ]
     },
     "metadata": {
      "needs_background": "light"
     },
     "output_type": "display_data"
    }
   ],
   "source": [
    "for i in df['label']:\n",
    "    if i==0:\n",
    "        plt.scatter(df.loc[df['label']==i,'x'],df.loc[df['label']==i,'y'],c='red')\n",
    "    else:\n",
    "        plt.scatter(df.loc[df['label']==i,'x'],df.loc[df['label']==i,'y'],c='blue')"
   ]
  },
  {
   "cell_type": "code",
   "execution_count": 5,
   "id": "41e9d805",
   "metadata": {},
   "outputs": [],
   "source": [
    "newdf=df"
   ]
  },
  {
   "cell_type": "code",
   "execution_count": 6,
   "id": "5d79a5c1",
   "metadata": {},
   "outputs": [],
   "source": [
    "from math import sqrt\n",
    "for i in range(8):\n",
    "    if sqrt(newdf.at[i,'x']**2+newdf.at[i,'y']**2)>2:\n",
    "        a,b=newdf.at[i,'x'],newdf.at[i,'y']\n",
    "        newdf.at[i,'x']=4-b+abs(a-b)\n",
    "        newdf.at[i,'y']=4-a+abs(a-b)"
   ]
  },
  {
   "cell_type": "code",
   "execution_count": 7,
   "id": "c3bd87e8",
   "metadata": {},
   "outputs": [
    {
     "data": {
      "text/html": [
       "<div>\n",
       "<style scoped>\n",
       "    .dataframe tbody tr th:only-of-type {\n",
       "        vertical-align: middle;\n",
       "    }\n",
       "\n",
       "    .dataframe tbody tr th {\n",
       "        vertical-align: top;\n",
       "    }\n",
       "\n",
       "    .dataframe thead th {\n",
       "        text-align: right;\n",
       "    }\n",
       "</style>\n",
       "<table border=\"1\" class=\"dataframe\">\n",
       "  <thead>\n",
       "    <tr style=\"text-align: right;\">\n",
       "      <th></th>\n",
       "      <th>x</th>\n",
       "      <th>y</th>\n",
       "      <th>label</th>\n",
       "    </tr>\n",
       "  </thead>\n",
       "  <tbody>\n",
       "    <tr>\n",
       "      <th>0</th>\n",
       "      <td>2</td>\n",
       "      <td>2</td>\n",
       "      <td>1</td>\n",
       "    </tr>\n",
       "    <tr>\n",
       "      <th>1</th>\n",
       "      <td>10</td>\n",
       "      <td>6</td>\n",
       "      <td>1</td>\n",
       "    </tr>\n",
       "    <tr>\n",
       "      <th>2</th>\n",
       "      <td>6</td>\n",
       "      <td>6</td>\n",
       "      <td>1</td>\n",
       "    </tr>\n",
       "    <tr>\n",
       "      <th>3</th>\n",
       "      <td>6</td>\n",
       "      <td>10</td>\n",
       "      <td>1</td>\n",
       "    </tr>\n",
       "    <tr>\n",
       "      <th>4</th>\n",
       "      <td>1</td>\n",
       "      <td>1</td>\n",
       "      <td>0</td>\n",
       "    </tr>\n",
       "    <tr>\n",
       "      <th>5</th>\n",
       "      <td>1</td>\n",
       "      <td>-1</td>\n",
       "      <td>0</td>\n",
       "    </tr>\n",
       "    <tr>\n",
       "      <th>6</th>\n",
       "      <td>-1</td>\n",
       "      <td>-1</td>\n",
       "      <td>0</td>\n",
       "    </tr>\n",
       "    <tr>\n",
       "      <th>7</th>\n",
       "      <td>-1</td>\n",
       "      <td>1</td>\n",
       "      <td>0</td>\n",
       "    </tr>\n",
       "  </tbody>\n",
       "</table>\n",
       "</div>"
      ],
      "text/plain": [
       "    x   y  label\n",
       "0   2   2      1\n",
       "1  10   6      1\n",
       "2   6   6      1\n",
       "3   6  10      1\n",
       "4   1   1      0\n",
       "5   1  -1      0\n",
       "6  -1  -1      0\n",
       "7  -1   1      0"
      ]
     },
     "execution_count": 7,
     "metadata": {},
     "output_type": "execute_result"
    }
   ],
   "source": [
    "newdf"
   ]
  },
  {
   "cell_type": "code",
   "execution_count": 8,
   "id": "81131e6f",
   "metadata": {},
   "outputs": [
    {
     "data": {
      "image/png": "[encoded data removed]",
      "text/plain": [
       "<Figure size 432x288 with 1 Axes>"
      ]
     },
     "metadata": {
      "needs_background": "light"
     },
     "output_type": "display_data"
    }
   ],
   "source": [
    "for i in newdf['label']:\n",
    "    if i==0:\n",
    "        plt.scatter(newdf.loc[newdf['label']==i,'x'],newdf.loc[newdf['label']==i,'y'],c='red')\n",
    "    else:\n",
    "        plt.scatter(newdf.loc[newdf['label']==i,'x'],newdf.loc[newdf['label']==i,'y'],c='blue')"
   ]
  },
  {
   "cell_type": "code",
   "execution_count": 9,
   "id": "6f222bd1",
   "metadata": {},
   "outputs": [],
   "source": [
    "s1=[1,1]\n",
    "s2=[2,2]"
   ]
  },
  {
   "cell_type": "code",
   "execution_count": 10,
   "id": "4771d630",
   "metadata": {},
   "outputs": [],
   "source": [
    "S1=s1\n",
    "S2=s2\n",
    "S1.append(1)\n",
    "S2.append(1)"
   ]
  },
  {
   "cell_type": "code",
   "execution_count": 11,
   "id": "bfed8b42",
   "metadata": {},
   "outputs": [],
   "source": [
    "S1S1=0\n",
    "S2S1=0\n",
    "S2S2=0\n",
    "for i in range(3):\n",
    "    S1S1+=S1[i]*S1[i]\n",
    "    S2S1+=S2[i]*S1[i]\n",
    "    S2S2+=S2[i]*S2[i]\n",
    "S1S2=S2S1"
   ]
  },
  {
   "cell_type": "code",
   "execution_count": 12,
   "id": "9690328a",
   "metadata": {},
   "outputs": [
    {
     "name": "stdout",
     "output_type": "stream",
     "text": [
      "Eq(3*a1 + 5*a2, -1)\n",
      "Eq(5*a1 + 9*a2, 1)\n"
     ]
    }
   ],
   "source": [
    "#Creating linear equations\n",
    "from sympy import symbols,Eq,solve\n",
    "\n",
    "a1,a2=symbols('a1,a2')\n",
    "\n",
    "eq1=Eq((a1*S1S1+a2*S2S1),-1)\n",
    "print(eq1)\n",
    "\n",
    "eq2=Eq((a1*S1S2+a2*S2S2),1)\n",
    "print(eq2)"
   ]
  },
  {
   "cell_type": "code",
   "execution_count": 13,
   "id": "1cdf2fcd",
   "metadata": {},
   "outputs": [],
   "source": [
    "val=solve((eq1,eq2),(a1,a2))"
   ]
  },
  {
   "cell_type": "code",
   "execution_count": 14,
   "id": "cca6dbaf",
   "metadata": {},
   "outputs": [
    {
     "data": {
      "text/plain": [
       "{a1: -7, a2: 4}"
      ]
     },
     "execution_count": 14,
     "metadata": {},
     "output_type": "execute_result"
    }
   ],
   "source": [
    "val"
   ]
  },
  {
   "cell_type": "code",
   "execution_count": 15,
   "id": "c4497585",
   "metadata": {},
   "outputs": [],
   "source": [
    "a1S1=[]\n",
    "a2S2=[]\n",
    "for i in range(3):\n",
    "    a1S1.append(val[a1]*S1[i])\n",
    "    a2S2.append(val[a2]*S2[i])\n",
    "W=[]\n",
    "for i in range(3):\n",
    "    W.append(a1S1[i]+a2S2[i])"
   ]
  },
  {
   "cell_type": "code",
   "execution_count": 16,
   "id": "19225a68",
   "metadata": {},
   "outputs": [
    {
     "data": {
      "text/plain": [
       "[1, 1, -3]"
      ]
     },
     "execution_count": 16,
     "metadata": {},
     "output_type": "execute_result"
    }
   ],
   "source": [
    "W"
   ]
  },
  {
   "cell_type": "code",
   "execution_count": 17,
   "id": "57bfe6dd",
   "metadata": {},
   "outputs": [],
   "source": [
    "w=W[:2]\n",
    "b=abs(W[2])"
   ]
  },
  {
   "cell_type": "code",
   "execution_count": 18,
   "id": "79fb212a",
   "metadata": {},
   "outputs": [
    {
     "data": {
      "text/plain": [
       "[1, 1]"
      ]
     },
     "execution_count": 18,
     "metadata": {},
     "output_type": "execute_result"
    }
   ],
   "source": [
    "w"
   ]
  },
  {
   "cell_type": "code",
   "execution_count": 19,
   "id": "22879204",
   "metadata": {},
   "outputs": [
    {
     "data": {
      "text/latex": [
       "$\\displaystyle 3$"
      ],
      "text/plain": [
       "3"
      ]
     },
     "execution_count": 19,
     "metadata": {},
     "output_type": "execute_result"
    }
   ],
   "source": [
    "b"
   ]
  },
  {
   "cell_type": "code",
   "execution_count": 20,
   "id": "d824e55f",
   "metadata": {},
   "outputs": [
    {
     "data": {
      "image/png": "[encoded data removed]",
      "text/plain": [
       "<Figure size 432x288 with 1 Axes>"
      ]
     },
     "metadata": {
      "needs_background": "light"
     },
     "output_type": "display_data"
    }
   ],
   "source": [
    "p1=[0,b]\n",
    "p2=[b,0]\n",
    "plt.plot(p2,p1,c='green')\n",
    "for i in newdf['label']:\n",
    "    if i==0:\n",
    "        plt.scatter(newdf.loc[newdf['label']==i,'x'],newdf.loc[newdf['label']==i,'y'],c='red')\n",
    "    else:\n",
    "        plt.scatter(newdf.loc[newdf['label']==i,'x'],newdf.loc[newdf['label']==i,'y'],c='blue')"
   ]
  },
  {
   "cell_type": "code",
   "execution_count": null,
   "id": "409fce42",
   "metadata": {},
   "outputs": [],
   "source": []
  }
 ],
 "metadata": {
  "kernelspec": {
   "display_name": "Python 3 (ipykernel)",
   "language": "python",
   "name": "python3"
  },
  "language_info": {
   "codemirror_mode": {
    "name": "ipython",
    "version": 3
   },
   "file_extension": ".py",
   "mimetype": "text/x-python",
   "name": "python",
   "nbconvert_exporter": "python",
   "pygments_lexer": "ipython3",
   "version": "3.9.7"
  }
 },
 "nbformat": 4,
 "nbformat_minor": 5
}
