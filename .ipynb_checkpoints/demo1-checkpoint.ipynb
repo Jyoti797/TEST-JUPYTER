{
 "cells": [
  {
   "cell_type": "code",
   "execution_count": 4,
   "id": "26b12999-559d-4151-9570-3a34eb98b4c6",
   "metadata": {},
   "outputs": [
    {
     "name": "stdout",
     "output_type": "stream",
     "text": [
      "Hello world\n"
     ]
    }
   ],
   "source": [
    "print(\"Hello world\")"
   ]
  },
  {
   "cell_type": "code",
   "execution_count": 5,
   "id": "977b9881-6394-4a42-b118-cefb32d9daa9",
   "metadata": {},
   "outputs": [
    {
     "name": "stdout",
     "output_type": "stream",
     "text": [
      "Thank you\n",
      "Thank you\n",
      "Thank you\n",
      "Thank you\n",
      "Thank you\n",
      "Thank you\n",
      "Thank you\n",
      "Thank you\n",
      "Thank you\n",
      "Thank you\n"
     ]
    }
   ],
   "source": [
    "for i in range(0,10):\n",
    "    print(\"Thank you\")"
   ]
  },
  {
   "cell_type": "code",
   "execution_count": null,
   "id": "66bcdbd7-97c2-43d2-944d-3908cce4dfb3",
   "metadata": {},
   "outputs": [],
   "source": []
  }
 ],
 "metadata": {
  "kernelspec": {
   "display_name": "Python 3 (ipykernel)",
   "language": "python",
   "name": "python3"
  },
  "language_info": {
   "codemirror_mode": {
    "name": "ipython",
    "version": 3
   },
   "file_extension": ".py",
   "mimetype": "text/x-python",
   "name": "python",
   "nbconvert_exporter": "python",
   "pygments_lexer": "ipython3",
   "version": "3.11.4"
  }
 },
 "nbformat": 4,
 "nbformat_minor": 5
}
