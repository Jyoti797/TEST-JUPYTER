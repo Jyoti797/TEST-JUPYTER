{
 "cells": [
  {
   "cell_type": "markdown",
   "id": "ba0c2f47",
   "metadata": {},
   "source": [
    "Aditya Narayan Panda\n",
    "FET/BCE/2021-25/005"
   ]
  },
  {
   "cell_type": "code",
   "execution_count": 1,
   "id": "572824ab",
   "metadata": {},
   "outputs": [],
   "source": [
    "import pandas as pd\n",
    "import matplotlib.pyplot as plt"
   ]
  },
  {
   "cell_type": "code",
   "execution_count": 2,
   "id": "b99f8c3a",
   "metadata": {},
   "outputs": [],
   "source": [
    "df=pd.read_csv(\"ForSVM.csv\")"
   ]
  },
  {
   "cell_type": "code",
   "execution_count": 3,
   "id": "e3acf2b1",
   "metadata": {},
   "outputs": [
    {
     "data": {
      "text/html": [
       "<div>\n",
       "<style scoped>\n",
       "    .dataframe tbody tr th:only-of-type {\n",
       "        vertical-align: middle;\n",
       "    }\n",
       "\n",
       "    .dataframe tbody tr th {\n",
       "        vertical-align: top;\n",
       "    }\n",
       "\n",
       "    .dataframe thead th {\n",
       "        text-align: right;\n",
       "    }\n",
       "</style>\n",
       "<table border=\"1\" class=\"dataframe\">\n",
       "  <thead>\n",
       "    <tr style=\"text-align: right;\">\n",
       "      <th></th>\n",
       "      <th>x</th>\n",
       "      <th>y</th>\n",
       "      <th>label</th>\n",
       "    </tr>\n",
       "  </thead>\n",
       "  <tbody>\n",
       "    <tr>\n",
       "      <th>0</th>\n",
       "      <td>3</td>\n",
       "      <td>1</td>\n",
       "      <td>1</td>\n",
       "    </tr>\n",
       "    <tr>\n",
       "      <th>1</th>\n",
       "      <td>3</td>\n",
       "      <td>-1</td>\n",
       "      <td>1</td>\n",
       "    </tr>\n",
       "    <tr>\n",
       "      <th>2</th>\n",
       "      <td>6</td>\n",
       "      <td>1</td>\n",
       "      <td>1</td>\n",
       "    </tr>\n",
       "    <tr>\n",
       "      <th>3</th>\n",
       "      <td>6</td>\n",
       "      <td>-1</td>\n",
       "      <td>1</td>\n",
       "    </tr>\n",
       "    <tr>\n",
       "      <th>4</th>\n",
       "      <td>1</td>\n",
       "      <td>0</td>\n",
       "      <td>0</td>\n",
       "    </tr>\n",
       "    <tr>\n",
       "      <th>5</th>\n",
       "      <td>0</td>\n",
       "      <td>1</td>\n",
       "      <td>0</td>\n",
       "    </tr>\n",
       "    <tr>\n",
       "      <th>6</th>\n",
       "      <td>0</td>\n",
       "      <td>-1</td>\n",
       "      <td>0</td>\n",
       "    </tr>\n",
       "    <tr>\n",
       "      <th>7</th>\n",
       "      <td>-1</td>\n",
       "      <td>0</td>\n",
       "      <td>0</td>\n",
       "    </tr>\n",
       "  </tbody>\n",
       "</table>\n",
       "</div>"
      ],
      "text/plain": [
       "   x  y  label\n",
       "0  3  1      1\n",
       "1  3 -1      1\n",
       "2  6  1      1\n",
       "3  6 -1      1\n",
       "4  1  0      0\n",
       "5  0  1      0\n",
       "6  0 -1      0\n",
       "7 -1  0      0"
      ]
     },
     "execution_count": 3,
     "metadata": {},
     "output_type": "execute_result"
    }
   ],
   "source": [
    "df"
   ]
  },
  {
   "cell_type": "code",
   "execution_count": 4,
   "id": "1c8ecb06",
   "metadata": {},
   "outputs": [
    {
     "data": {
      "image/png": "[encoded data removed]",
      "text/plain": [
       "<Figure size 432x288 with 1 Axes>"
      ]
     },
     "metadata": {
      "needs_background": "light"
     },
     "output_type": "display_data"
    }
   ],
   "source": [
    "#Plotting the points, red for negative label and blue for positive label\n",
    "for i in df['label']:\n",
    "    if i==0:\n",
    "        plt.scatter(df.loc[df['label']==i,'x'],df.loc[df['label']==i,'y'],c='red')\n",
    "    else:\n",
    "        plt.scatter(df.loc[df['label']==i,'x'],df.loc[df['label']==i,'y'],c='blue')"
   ]
  },
  {
   "cell_type": "code",
   "execution_count": 5,
   "id": "9ad1ea7c",
   "metadata": {},
   "outputs": [],
   "source": [
    "s1=[1,0]\n",
    "s2=[3,1]\n",
    "s3=[3,-1]"
   ]
  },
  {
   "cell_type": "code",
   "execution_count": 6,
   "id": "d2b11299",
   "metadata": {},
   "outputs": [],
   "source": [
    "#adding bias\n",
    "s1.append(1)\n",
    "s2.append(1)\n",
    "s3.append(1)\n",
    "S1=s1\n",
    "S2=s2\n",
    "S3=s3"
   ]
  },
  {
   "cell_type": "code",
   "execution_count": 7,
   "id": "89f36503",
   "metadata": {},
   "outputs": [],
   "source": [
    "#Calculating Products\n",
    "S1S1=0\n",
    "S2S2=0\n",
    "S3S3=0\n",
    "S2S1=0\n",
    "S3S1=0\n",
    "S2S3=0\n",
    "for i in range(3):\n",
    "    S1S1+=S1[i]*S1[i]\n",
    "    S2S2+=S2[i]*S2[i]\n",
    "    S3S3+=S3[i]*S3[i]\n",
    "    S2S1+=S2[i]*S1[i]\n",
    "    S3S1+=S3[i]*S1[i]\n",
    "    S2S3+=S2[i]*S3[i]\n",
    "S1S2=S2S1\n",
    "S1S3=S3S1\n",
    "S3S2=S2S3"
   ]
  },
  {
   "cell_type": "code",
   "execution_count": 8,
   "id": "9b2ab372",
   "metadata": {},
   "outputs": [
    {
     "name": "stdout",
     "output_type": "stream",
     "text": [
      "Eq(2*a1 + 4*a2 + 4*a3, -1)\n",
      "Eq(4*a1 + 11*a2 + 9*a3, 1)\n",
      "Eq(4*a1 + 9*a2 + 11*a3, 1)\n"
     ]
    }
   ],
   "source": [
    "#Creating linear equations\n",
    "from sympy import symbols,Eq,solve\n",
    "\n",
    "a1,a2,a3=symbols('a1,a2,a3')\n",
    "\n",
    "eq1=Eq((a1*S1S1+a2*S2S1+a3*S3S1),-1)\n",
    "print(eq1)\n",
    "\n",
    "eq2=Eq((a1*S1S2+a2*S2S2+a3*S3S2),1)\n",
    "print(eq2)\n",
    "\n",
    "eq3=Eq((a1*S1S3+a2*S2S3+a3*S3S3),1)\n",
    "print(eq3)"
   ]
  },
  {
   "cell_type": "code",
   "execution_count": 9,
   "id": "138e14d2",
   "metadata": {},
   "outputs": [],
   "source": [
    "#Solving linear equations\n",
    "val=solve((eq1,eq2,eq3),(a1,a2,a3))"
   ]
  },
  {
   "cell_type": "code",
   "execution_count": 10,
   "id": "da764111",
   "metadata": {},
   "outputs": [],
   "source": [
    "#Changing datatype to float\n",
    "val[a1]=float(val[a1])\n",
    "val[a2]=float(val[a2])\n",
    "val[a3]=float(val[a3])"
   ]
  },
  {
   "cell_type": "code",
   "execution_count": 11,
   "id": "39f93823",
   "metadata": {},
   "outputs": [
    {
     "data": {
      "text/plain": [
       "{a1: -3.5, a2: 0.75, a3: 0.75}"
      ]
     },
     "execution_count": 11,
     "metadata": {},
     "output_type": "execute_result"
    }
   ],
   "source": [
    "#Values of alpha in dictionary format\n",
    "val"
   ]
  },
  {
   "cell_type": "code",
   "execution_count": 12,
   "id": "14cc5468",
   "metadata": {},
   "outputs": [],
   "source": [
    "#Calculating W\n",
    "a1S1=[]\n",
    "a2S2=[]\n",
    "a3S3=[]\n",
    "for i in range(3):\n",
    "    a1S1.append(val[a1]*S1[i])\n",
    "    a2S2.append(val[a2]*S2[i])\n",
    "    a3S3.append(val[a3]*S3[i])\n",
    "W=[]\n",
    "for i in range(3):\n",
    "    W.append(a1S1[i]+a2S2[i]+a3S3[i])"
   ]
  },
  {
   "cell_type": "code",
   "execution_count": 13,
   "id": "1901fcf6",
   "metadata": {},
   "outputs": [
    {
     "data": {
      "text/plain": [
       "[1.0, 0.0, -2.0]"
      ]
     },
     "execution_count": 13,
     "metadata": {},
     "output_type": "execute_result"
    }
   ],
   "source": [
    "W"
   ]
  },
  {
   "cell_type": "code",
   "execution_count": 14,
   "id": "75f06bcf",
   "metadata": {},
   "outputs": [],
   "source": [
    "#separating w and bias\n",
    "w=W[:2]\n",
    "b=W[2]"
   ]
  },
  {
   "cell_type": "code",
   "execution_count": 15,
   "id": "1b4b8f1a",
   "metadata": {},
   "outputs": [
    {
     "data": {
      "text/plain": [
       "[1.0, 0.0]"
      ]
     },
     "execution_count": 15,
     "metadata": {},
     "output_type": "execute_result"
    }
   ],
   "source": [
    "w"
   ]
  },
  {
   "cell_type": "code",
   "execution_count": 16,
   "id": "76442536",
   "metadata": {},
   "outputs": [
    {
     "data": {
      "text/plain": [
       "-2.0"
      ]
     },
     "execution_count": 16,
     "metadata": {},
     "output_type": "execute_result"
    }
   ],
   "source": [
    "b"
   ]
  },
  {
   "cell_type": "code",
   "execution_count": 17,
   "id": "b4f72d3e",
   "metadata": {},
   "outputs": [],
   "source": [
    "b=abs(b)"
   ]
  },
  {
   "cell_type": "code",
   "execution_count": 18,
   "id": "78f3586a",
   "metadata": {},
   "outputs": [
    {
     "data": {
      "text/plain": [
       "2.0"
      ]
     },
     "execution_count": 18,
     "metadata": {},
     "output_type": "execute_result"
    }
   ],
   "source": [
    "b"
   ]
  },
  {
   "cell_type": "code",
   "execution_count": 19,
   "id": "4c7cb02f",
   "metadata": {},
   "outputs": [
    {
     "data": {
      "image/png": "[encoded data removed]",
      "text/plain": [
       "<Figure size 432x288 with 1 Axes>"
      ]
     },
     "metadata": {
      "needs_background": "light"
     },
     "output_type": "display_data"
    }
   ],
   "source": [
    "#Plotting the hyperplane and data points\n",
    "i=[-2,3]\n",
    "B=[b,b]\n",
    "plt.plot(B,i)\n",
    "for i in df['label']:\n",
    "    if i==0:\n",
    "        plt.scatter(df.loc[df['label']==i,'x'],df.loc[df['label']==i,'y'],c='red')\n",
    "    else:\n",
    "        plt.scatter(df.loc[df['label']==i,'x'],df.loc[df['label']==i,'y'],c='blue')"
   ]
  },
  {
   "cell_type": "code",
   "execution_count": null,
   "id": "5f43d857",
   "metadata": {},
   "outputs": [],
   "source": []
  }
 ],
 "metadata": {
  "kernelspec": {
   "display_name": "Python 3 (ipykernel)",
   "language": "python",
   "name": "python3"
  },
  "language_info": {
   "codemirror_mode": {
    "name": "ipython",
    "version": 3
   },
   "file_extension": ".py",
   "mimetype": "text/x-python",
   "name": "python",
   "nbconvert_exporter": "python",
   "pygments_lexer": "ipython3",
   "version": "3.9.7"
  }
 },
 "nbformat": 4,
 "nbformat_minor": 5
}
